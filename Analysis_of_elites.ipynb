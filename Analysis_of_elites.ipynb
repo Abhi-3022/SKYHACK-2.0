{
  "nbformat": 4,
  "nbformat_minor": 0,
  "metadata": {
    "colab": {
      "provenance": []
    },
    "kernelspec": {
      "name": "python3",
      "display_name": "Python 3"
    },
    "language_info": {
      "name": "python"
    }
  },
  "cells": [
    {
      "cell_type": "code",
      "execution_count": 2,
      "metadata": {
        "id": "Fn5Ss1BEr1Zb"
      },
      "outputs": [],
      "source": [
        "import numpy as np\n",
        "import pandas as pd\n",
        "import matplotlib.pyplot as plt"
      ]
    },
    {
      "cell_type": "code",
      "source": [
        "elite = pd.read_csv('/content/elite (1).csv')"
      ],
      "metadata": {
        "id": "FdhOWPLb4CY-"
      },
      "execution_count": 28,
      "outputs": []
    },
    {
      "cell_type": "code",
      "source": [
        "nonelite = pd.read_csv('/content/non_elite (1).csv')"
      ],
      "metadata": {
        "id": "V2u4Kd26FFb6"
      },
      "execution_count": 30,
      "outputs": []
    },
    {
      "cell_type": "code",
      "source": [
        "elite.columns"
      ],
      "metadata": {
        "colab": {
          "base_uri": "https://localhost:8080/"
        },
        "id": "gpKLc_1WEL3N",
        "outputId": "b7928252-81e4-402b-dbee-c16faa1c3b3a"
      },
      "execution_count": 29,
      "outputs": [
        {
          "output_type": "execute_result",
          "data": {
            "text/plain": [
              "Index(['Unnamed: 0', 'call_id', 'agent_id', 'agent_tone', 'customer_tone',\n",
              "       'average_sentiment', 'silence_percent_average', 'primary_call_reason',\n",
              "       'customer_id', 'call_start_datetime', 'agent_assigned_datetime',\n",
              "       'call_end_datetime', 'customer_name', 'elite_level_code', 'AHT', 'AST',\n",
              "       'Booking and Boarding', 'Customer Support', 'Flight Changes',\n",
              "       'Loyalty Program & Membership', 'Other', 'Post-Flight Issues',\n",
              "       'Seat Preferences & Upgrades', 'Special Services', 'hour_of_day',\n",
              "       'day_of_week'],\n",
              "      dtype='object')"
            ]
          },
          "metadata": {},
          "execution_count": 29
        }
      ]
    },
    {
      "cell_type": "code",
      "source": [
        "ast_analysis = elite.groupby('elite_level_code')['AST'].mean()\n",
        "print(ast_analysis)\n",
        "print(\"Mean AST of Elite's\",ast_analysis.mean())"
      ],
      "metadata": {
        "colab": {
          "base_uri": "https://localhost:8080/"
        },
        "id": "X0rz3MI8EILk",
        "outputId": "56da403e-50e5-4d2e-f2b4-4cd501d41eb5"
      },
      "execution_count": 32,
      "outputs": [
        {
          "output_type": "stream",
          "name": "stdout",
          "text": [
            "elite_level_code\n",
            "0.0    7.303644\n",
            "1.0    7.272605\n",
            "2.0    7.214649\n",
            "3.0    7.155185\n",
            "4.0    6.900561\n",
            "5.0    6.832950\n",
            "Name: AST, dtype: float64\n",
            "Mean AST of Elite's 7.113265679717599\n"
          ]
        }
      ]
    },
    {
      "cell_type": "code",
      "source": [
        "ast_analysis = nonelite['AST'].mean()\n",
        "print(ast_analysis)"
      ],
      "metadata": {
        "colab": {
          "base_uri": "https://localhost:8080/"
        },
        "id": "yFnN2BBZFQvU",
        "outputId": "4616b262-bccd-4a0d-bb0e-3794c9cebdc9"
      },
      "execution_count": 31,
      "outputs": [
        {
          "output_type": "stream",
          "name": "stdout",
          "text": [
            "7.382236320380651\n"
          ]
        }
      ]
    },
    {
      "cell_type": "code",
      "source": [
        "aht_analysis = elite.groupby('elite_level_code')['AHT'].mean()\n",
        "print(aht_analysis)\n",
        "print(\"Mean AST of Elite's\",aht_analysis.mean())"
      ],
      "metadata": {
        "colab": {
          "base_uri": "https://localhost:8080/"
        },
        "id": "rc2UqWvDFtGn",
        "outputId": "035482cf-7d84-4ab5-f0f8-7675c705f629"
      },
      "execution_count": 33,
      "outputs": [
        {
          "output_type": "stream",
          "name": "stdout",
          "text": [
            "elite_level_code\n",
            "0.0    18.982606\n",
            "1.0    18.723872\n",
            "2.0    19.288029\n",
            "3.0    19.304883\n",
            "4.0    19.793473\n",
            "5.0    21.794636\n",
            "Name: AHT, dtype: float64\n",
            "Mean AST of Elite's 19.647916342362453\n"
          ]
        }
      ]
    },
    {
      "cell_type": "code",
      "source": [
        "aht_analysis = nonelite['AHT'].mean()\n",
        "print(aht_analysis)"
      ],
      "metadata": {
        "colab": {
          "base_uri": "https://localhost:8080/"
        },
        "id": "lrA_PTHGFyVD",
        "outputId": "1f5079e9-3fcc-434c-a9e5-9d197bf34bdd"
      },
      "execution_count": 34,
      "outputs": [
        {
          "output_type": "stream",
          "name": "stdout",
          "text": [
            "18.517926457698568\n"
          ]
        }
      ]
    },
    {
      "cell_type": "code",
      "source": [
        "elite[elite['average_sentiment']==elite['average_sentiment'].min()]['average_sentiment']"
      ],
      "metadata": {
        "colab": {
          "base_uri": "https://localhost:8080/",
          "height": 115
        },
        "id": "bC45b7pwHEIJ",
        "outputId": "4f541562-9dd8-4ec9-c0c6-8c3c84884348"
      },
      "execution_count": 44,
      "outputs": [
        {
          "output_type": "execute_result",
          "data": {
            "text/plain": [
              "32314   -1.38\n",
              "Name: average_sentiment, dtype: float64"
            ],
            "text/html": [
              "<div>\n",
              "<style scoped>\n",
              "    .dataframe tbody tr th:only-of-type {\n",
              "        vertical-align: middle;\n",
              "    }\n",
              "\n",
              "    .dataframe tbody tr th {\n",
              "        vertical-align: top;\n",
              "    }\n",
              "\n",
              "    .dataframe thead th {\n",
              "        text-align: right;\n",
              "    }\n",
              "</style>\n",
              "<table border=\"1\" class=\"dataframe\">\n",
              "  <thead>\n",
              "    <tr style=\"text-align: right;\">\n",
              "      <th></th>\n",
              "      <th>average_sentiment</th>\n",
              "    </tr>\n",
              "  </thead>\n",
              "  <tbody>\n",
              "    <tr>\n",
              "      <th>32314</th>\n",
              "      <td>-1.38</td>\n",
              "    </tr>\n",
              "  </tbody>\n",
              "</table>\n",
              "</div><br><label><b>dtype:</b> float64</label>"
            ]
          },
          "metadata": {},
          "execution_count": 44
        }
      ]
    },
    {
      "cell_type": "code",
      "source": [
        "elite[elite['average_sentiment']==elite['average_sentiment'].max()]['average_sentiment']"
      ],
      "metadata": {
        "colab": {
          "base_uri": "https://localhost:8080/",
          "height": 178
        },
        "id": "-cfFvJwZHGUw",
        "outputId": "c59ef381-a328-41bb-fd5c-cc4e07f99eb8"
      },
      "execution_count": 45,
      "outputs": [
        {
          "output_type": "execute_result",
          "data": {
            "text/plain": [
              "3499     1.0\n",
              "33812    1.0\n",
              "41360    1.0\n",
              "Name: average_sentiment, dtype: float64"
            ],
            "text/html": [
              "<div>\n",
              "<style scoped>\n",
              "    .dataframe tbody tr th:only-of-type {\n",
              "        vertical-align: middle;\n",
              "    }\n",
              "\n",
              "    .dataframe tbody tr th {\n",
              "        vertical-align: top;\n",
              "    }\n",
              "\n",
              "    .dataframe thead th {\n",
              "        text-align: right;\n",
              "    }\n",
              "</style>\n",
              "<table border=\"1\" class=\"dataframe\">\n",
              "  <thead>\n",
              "    <tr style=\"text-align: right;\">\n",
              "      <th></th>\n",
              "      <th>average_sentiment</th>\n",
              "    </tr>\n",
              "  </thead>\n",
              "  <tbody>\n",
              "    <tr>\n",
              "      <th>3499</th>\n",
              "      <td>1.0</td>\n",
              "    </tr>\n",
              "    <tr>\n",
              "      <th>33812</th>\n",
              "      <td>1.0</td>\n",
              "    </tr>\n",
              "    <tr>\n",
              "      <th>41360</th>\n",
              "      <td>1.0</td>\n",
              "    </tr>\n",
              "  </tbody>\n",
              "</table>\n",
              "</div><br><label><b>dtype:</b> float64</label>"
            ]
          },
          "metadata": {},
          "execution_count": 45
        }
      ]
    },
    {
      "cell_type": "code",
      "source": [
        "nonelite[nonelite['average_sentiment']==nonelite['average_sentiment'].max()]['average_sentiment']"
      ],
      "metadata": {
        "colab": {
          "base_uri": "https://localhost:8080/",
          "height": 115
        },
        "id": "OW-eMrW2HIr0",
        "outputId": "2f7328a8-3eab-418a-d1a9-643dc9157179"
      },
      "execution_count": 46,
      "outputs": [
        {
          "output_type": "execute_result",
          "data": {
            "text/plain": [
              "23793    2.67\n",
              "Name: average_sentiment, dtype: float64"
            ],
            "text/html": [
              "<div>\n",
              "<style scoped>\n",
              "    .dataframe tbody tr th:only-of-type {\n",
              "        vertical-align: middle;\n",
              "    }\n",
              "\n",
              "    .dataframe tbody tr th {\n",
              "        vertical-align: top;\n",
              "    }\n",
              "\n",
              "    .dataframe thead th {\n",
              "        text-align: right;\n",
              "    }\n",
              "</style>\n",
              "<table border=\"1\" class=\"dataframe\">\n",
              "  <thead>\n",
              "    <tr style=\"text-align: right;\">\n",
              "      <th></th>\n",
              "      <th>average_sentiment</th>\n",
              "    </tr>\n",
              "  </thead>\n",
              "  <tbody>\n",
              "    <tr>\n",
              "      <th>23793</th>\n",
              "      <td>2.67</td>\n",
              "    </tr>\n",
              "  </tbody>\n",
              "</table>\n",
              "</div><br><label><b>dtype:</b> float64</label>"
            ]
          },
          "metadata": {},
          "execution_count": 46
        }
      ]
    },
    {
      "cell_type": "code",
      "source": [
        "nonelite[nonelite['average_sentiment']==nonelite['average_sentiment'].min()]['average_sentiment']"
      ],
      "metadata": {
        "colab": {
          "base_uri": "https://localhost:8080/",
          "height": 115
        },
        "id": "8P2I9HuSHKfF",
        "outputId": "9c9c933e-e8bd-4941-a886-a4c9e3376553"
      },
      "execution_count": 47,
      "outputs": [
        {
          "output_type": "execute_result",
          "data": {
            "text/plain": [
              "14431   -1.15\n",
              "Name: average_sentiment, dtype: float64"
            ],
            "text/html": [
              "<div>\n",
              "<style scoped>\n",
              "    .dataframe tbody tr th:only-of-type {\n",
              "        vertical-align: middle;\n",
              "    }\n",
              "\n",
              "    .dataframe tbody tr th {\n",
              "        vertical-align: top;\n",
              "    }\n",
              "\n",
              "    .dataframe thead th {\n",
              "        text-align: right;\n",
              "    }\n",
              "</style>\n",
              "<table border=\"1\" class=\"dataframe\">\n",
              "  <thead>\n",
              "    <tr style=\"text-align: right;\">\n",
              "      <th></th>\n",
              "      <th>average_sentiment</th>\n",
              "    </tr>\n",
              "  </thead>\n",
              "  <tbody>\n",
              "    <tr>\n",
              "      <th>14431</th>\n",
              "      <td>-1.15</td>\n",
              "    </tr>\n",
              "  </tbody>\n",
              "</table>\n",
              "</div><br><label><b>dtype:</b> float64</label>"
            ]
          },
          "metadata": {},
          "execution_count": 47
        }
      ]
    },
    {
      "cell_type": "code",
      "source": [
        "import seaborn as sns\n",
        "import matplotlib.pyplot as plt\n",
        "\n",
        "sns.boxplot(x='elite_level_code', y='AST', data=elite)\n",
        "plt.xlabel('Elite Level')\n",
        "plt.ylabel('AST')\n",
        "plt.title('AST by Elite Level')\n",
        "plt.show()\n"
      ],
      "metadata": {
        "colab": {
          "base_uri": "https://localhost:8080/",
          "height": 527
        },
        "id": "-6SVjd1nEcHB",
        "outputId": "d5026d2b-c3e3-45d8-a717-62a21c4a70b9"
      },
      "execution_count": 48,
      "outputs": [
        {
          "output_type": "stream",
          "name": "stderr",
          "text": [
            "/usr/local/lib/python3.10/dist-packages/seaborn/categorical.py:640: FutureWarning: SeriesGroupBy.grouper is deprecated and will be removed in a future version of pandas.\n",
            "  positions = grouped.grouper.result_index.to_numpy(dtype=float)\n"
          ]
        },
        {
          "output_type": "display_data",
          "data": {
            "text/plain": [
              "<Figure size 640x480 with 1 Axes>"
            ],
            "image/png": "[encoded data removed]"
          },
          "metadata": {}
        }
      ]
    },
    {
      "cell_type": "code",
      "source": [
        "elite_aht = elite.groupby('elite_level_code')['AHT'].mean().reset_index()\n",
        "sns.barplot(x='elite_level_code', y='AHT', data=elite_aht)\n",
        "plt.title('AHT by Elite Level')\n",
        "plt.xlabel('Elite Level')\n",
        "plt.ylabel('Average Handle Time (AHT)')\n",
        "plt.show()\n"
      ],
      "metadata": {
        "colab": {
          "base_uri": "https://localhost:8080/",
          "height": 472
        },
        "id": "vQ1GBT1JH5-x",
        "outputId": "28511c75-993d-44aa-aafc-7094530b10ca"
      },
      "execution_count": 50,
      "outputs": [
        {
          "output_type": "display_data",
          "data": {
            "text/plain": [
              "<Figure size 640x480 with 1 Axes>"
            ],
            "image/png": "[encoded data removed]"
          },
          "metadata": {}
        }
      ]
    }
  ]
}