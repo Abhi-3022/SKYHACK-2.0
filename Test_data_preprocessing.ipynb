{
  "nbformat": 4,
  "nbformat_minor": 0,
  "metadata": {
    "colab": {
      "provenance": []
    },
    "kernelspec": {
      "name": "python3",
      "display_name": "Python 3"
    },
    "language_info": {
      "name": "python"
    }
  },
  "cells": [
    {
      "cell_type": "code",
      "execution_count": null,
      "metadata": {
        "id": "X3qinTWrzdNA"
      },
      "outputs": [],
      "source": [
        "import pandas as pd\n",
        "import numpy as np"
      ]
    },
    {
      "cell_type": "code",
      "source": [
        "df_reason = pd.read_csv('/content/drive/MyDrive/Data United/reason.csv')\n",
        "df_sentiment = pd.read_csv('/content/drive/MyDrive/Data United/sentiment_statistics.csv')\n",
        "df_calls = pd.read_csv('/content/drive/MyDrive/Data United/calls.csv')\n",
        "df_customer = pd.read_csv('/content/drive/MyDrive/Data United/customers.csv')\n",
        "df_test = pd.read_csv('/content/drive/MyDrive/Data United/test.csv')"
      ],
      "metadata": {
        "colab": {
          "base_uri": "https://localhost:8080/"
        },
        "id": "9SCi6ec4zonj",
        "outputId": "1048cf0e-7649-447b-c2ba-2f0705e1e0b3"
      },
      "execution_count": null,
      "outputs": [
        {
          "output_type": "stream",
          "name": "stdout",
          "text": [
            "[1, 2, 4, 6, 8]\n"
          ]
        }
      ]
    },
    {
      "cell_type": "code",
      "source": [
        "df_test = pd.merge(df_test, df_calls, how='inner', on='call_id')"
      ],
      "metadata": {
        "colab": {
          "base_uri": "https://localhost:8080/"
        },
        "id": "Tch1aw130pWa",
        "outputId": "adae70de-37ea-4d7c-ff3f-ca8351c8e2ef"
      },
      "execution_count": null,
      "outputs": [
        {
          "output_type": "stream",
          "name": "stdout",
          "text": [
            "[1, 2, 3, 4, 5, 6, 7, 7, 9]\n"
          ]
        }
      ]
    },
    {
      "cell_type": "code",
      "source": [
        "df_test = pd.merge(df_test, df_sentiment, how='inner', on='call_id')"
      ],
      "metadata": {
        "id": "S_gEzmH51MnH"
      },
      "execution_count": null,
      "outputs": []
    },
    {
      "cell_type": "code",
      "source": [
        "df_test = pd.merge(df_test, df_customer, how='inner', on='customer_id')"
      ],
      "metadata": {
        "id": "ZypaJvH8Euid"
      },
      "execution_count": null,
      "outputs": []
    },
    {
      "cell_type": "code",
      "source": [
        "df_test.shape"
      ],
      "metadata": {
        "id": "6KKgum0EEwJa"
      },
      "execution_count": null,
      "outputs": []
    },
    {
      "cell_type": "code",
      "source": [
        "df_test = df_test.drop(['agent_id_y'],axis=1)\n",
        "df_test.rename(columns={'agent_id_x': 'agent_id'}, inplace=True)"
      ],
      "metadata": {
        "id": "uHdqfbgDEx--"
      },
      "execution_count": null,
      "outputs": []
    },
    {
      "cell_type": "code",
      "source": [
        "df_test.isnull().sum()"
      ],
      "metadata": {
        "id": "dZaz6_z-EznX"
      },
      "execution_count": null,
      "outputs": []
    },
    {
      "cell_type": "code",
      "source": [
        "df_test['average_sentiment'] = df_test['average_sentiment'].fillna(df_test['average_sentiment'].mean())\n",
        "df_test['agent_tone'] = df_test['agent_tone'].fillna('neutral')\n",
        "df_test['elite_level_code'] = df_test['elite_level_code'].fillna(0)"
      ],
      "metadata": {
        "id": "zSx1dfQhE1jj"
      },
      "execution_count": null,
      "outputs": []
    },
    {
      "cell_type": "code",
      "source": [
        "from sklearn.preprocessing import OrdinalEncoder\n",
        "\n",
        "df_test['customer_tone'] = df_test['customer_tone'].map(lambda x: x.lower())\n",
        "df_test['agent_tone'] = df_test['agent_tone'].map(lambda x: str(x).lower())\n",
        "\n",
        "categories = [['neutral', 'polite', 'calm', 'frustrated', 'angry']]\n",
        "encoder = OrdinalEncoder(categories=categories)\n",
        "\n",
        "df_test['customer_tone'] = encoder.fit_transform(df_test[['customer_tone']])\n",
        "df_test['agent_tone'] = encoder.fit_transform(df_test[['agent_tone']])"
      ],
      "metadata": {
        "id": "UMkM0mFXE300"
      },
      "execution_count": null,
      "outputs": []
    },
    {
      "cell_type": "code",
      "source": [
        "df_test['call_start_datetime'] = pd.to_datetime(df_test['call_start_datetime'])\n",
        "df_test['agent_assigned_datetime'] = pd.to_datetime(df_test['agent_assigned_datetime'])\n",
        "df_test['call_end_datetime'] = pd.to_datetime(df_test['call_end_datetime'])\n",
        "\n",
        "df_test['AHT'] = (df_test['call_end_datetime'] - df_test['call_start_datetime']).dt.total_seconds() / 60\n",
        "\n",
        "df_test['AST'] = (df_test['agent_assigned_datetime']-df_test['call_start_datetime']).dt.total_seconds() / 60"
      ],
      "metadata": {
        "id": "o0wA4P0WE50x"
      },
      "execution_count": null,
      "outputs": []
    },
    {
      "cell_type": "code",
      "source": [
        "df_test['hour_of_day'] = df_test['call_start_datetime'].dt.hour\n",
        "df_test['day_of_week'] = df_test['call_start_datetime'].dt.dayofweek"
      ],
      "metadata": {
        "id": "WqhRJRRPE73J"
      },
      "execution_count": null,
      "outputs": []
    },
    {
      "cell_type": "code",
      "source": [
        "df_test.shape"
      ],
      "metadata": {
        "id": "2ChSrtHyE93G"
      },
      "execution_count": null,
      "outputs": []
    },
    {
      "cell_type": "code",
      "source": [
        "df_test.to_csv('test_data.csv')"
      ],
      "metadata": {
        "id": "zCtT9xSNE_ye"
      },
      "execution_count": null,
      "outputs": []
    }
  ]
}